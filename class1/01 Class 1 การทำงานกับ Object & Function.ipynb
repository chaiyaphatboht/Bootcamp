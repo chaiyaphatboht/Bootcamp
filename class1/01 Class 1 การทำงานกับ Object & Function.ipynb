{
 "cells": [
  {
   "cell_type": "markdown",
   "metadata": {},
   "source": [
    "# การทำงานกับ Object"
   ]
  },
  {
   "cell_type": "markdown",
   "metadata": {},
   "source": [
    "การสั่งคำสั่งเพื่อทำงานกับข้อมูลในภาษา Python มีหลายวิธี ที่มีให้เลือกใช้ต่างกัน ซึ่งคำสั่งหรือเครื่องมือเราจะสามารถจำได้จากการลงมือทำเรื่องที่สนใจบ่อยๆ และไม่มีใครที่สามารถรู้ทุกเครื่องมือได้ ดังนั้น เราค่อยๆ เรียนไปทีละเครื่องมือได้ แต่หลักสำคัญคือ เราสามารถค้นหาเกี่ยวกับ object และสิ่งที่เราอยากทำ เพื่อให้ได้ คำสั่งที่เราตามหามาเองได้ (หรือเรียกว่าพื้นฐานแน่น)"
   ]
  },
  {
   "cell_type": "markdown",
   "metadata": {},
   "source": [
    "#### string object ตัวอย่างเก็บไว้ในตัวแปร text"
   ]
  },
  {
   "cell_type": "code",
   "execution_count": 3,
   "metadata": {},
   "outputs": [],
   "source": [
    "text = 'Hello World'"
   ]
  },
  {
   "cell_type": "markdown",
   "metadata": {},
   "source": [
    "## การดึงข้อมูลใน Object (เบื้องต้น)"
   ]
  },
  {
   "cell_type": "markdown",
   "metadata": {},
   "source": [
    "สำหรับ object ที่มีโครงสร้างในการเก็บ object เอาไว้ใน object เราสามารถดึงข้อมูลใน object นั้นๆ ออกมาตามลักษณะการเก็บข้อมูลได้ เช่น string ที่เก็บตัวอักษรแต่ละตัวแยกเป็น string โดยวิธีการดึงเราจะใช้สัญลักษณ์ [ ] ตามหลัง object ที่ต้องการดึง และระบุ index ที่เป็นระบบจัดเก็บข้อมูลของ object นั้น เช่น string ใช้ ระบบ index เป็นตำแหน่งของข้อมูล ที่ตำแหน่งแรกเริ่มต้นที่ 0"
   ]
  },
  {
   "cell_type": "markdown",
   "metadata": {},
   "source": [
    "#### การดึง object ที่ index 0 ของ text"
   ]
  },
  {
   "cell_type": "code",
   "execution_count": 4,
   "metadata": {
    "scrolled": true
   },
   "outputs": [
    {
     "data": {
      "text/plain": [
       "'H'"
      ]
     },
     "execution_count": 4,
     "metadata": {},
     "output_type": "execute_result"
    }
   ],
   "source": [
    "text[0]"
   ]
  },
  {
   "cell_type": "markdown",
   "metadata": {},
   "source": [
    "## การใช้คำสั่ง Built-in Function"
   ]
  },
  {
   "cell_type": "markdown",
   "metadata": {},
   "source": [
    "Built-in Function คือคำสั่งพื้นฐานที่ทำงานง่ายๆ ซึ่งสามารถเรียกใช้ได้ทันทีโดยการพิมพ์ชื่อเฉพาะ เช่น print(), len() เพื่อเรียกใช้งานได้ทันที ซึ่งคำสั่งประเภทนี้มีจำนวนน้อย และการใช้งานจำกัดมากๆ แต่ประกอบไปด้วยคำสั่งสำคัญที่เราจะใช้งานกันเป็นประจำ"
   ]
  },
  {
   "cell_type": "markdown",
   "metadata": {},
   "source": [
    "### print() สั่งให้แสดงผล"
   ]
  },
  {
   "cell_type": "markdown",
   "metadata": {},
   "source": [
    "ในการเขียน Python หากเราต้องการให้มีการแสดงผลที่เป็นตัวอักษรกลับมาให้ใช้คำสั่ง print() ที่รับสิ่งที่ต้องการให้แสดงผลระหว่าง () ซึ่งในการเขียนเบื้องต้น เราสามารถใช้ print() เพื่อติดตามการทำงานของโปรแกรมได้ว่า ข้อมูลที่อยู่ในแต่ละจุดการทำงานมีหน้าตาเป็นอย่างไร เพื่อตรวจสอบความาถูกต้อง"
   ]
  },
  {
   "cell_type": "markdown",
   "metadata": {},
   "source": [
    "#### คำสั่ง print() ที่มี text เป็น argument"
   ]
  },
  {
   "cell_type": "code",
   "execution_count": 8,
   "metadata": {
    "scrolled": true
   },
   "outputs": [
    {
     "name": "stdout",
     "output_type": "stream",
     "text": [
      "Hello World\n"
     ]
    },
    {
     "data": {
      "text/plain": [
       "11"
      ]
     },
     "execution_count": 8,
     "metadata": {},
     "output_type": "execute_result"
    }
   ],
   "source": [
    "print(text)\n",
    "len(text)"
   ]
  },
  {
   "cell_type": "markdown",
   "metadata": {},
   "source": [
    "## การใช้คำสั่ง Method"
   ]
  },
  {
   "cell_type": "markdown",
   "metadata": {},
   "source": [
    "ที่เป็นคำสั่งที่ผูกติดกับตัว object แต่ละประเภท ซึ่งทำให้ความเข้าใจประเภท object ยิ่งสำคัญสำหรับ Python เพราะจะทำให้เราเลือกประเภท object ที่มีเครื่องมือที่เหมาะสมกับการใช้งานได้ดียิ่งขึ้น"
   ]
  },
  {
   "cell_type": "markdown",
   "metadata": {},
   "source": [
    "### str.upper() สร้างข้อมูลตัวอักษรตัวใหญ่"
   ]
  },
  {
   "cell_type": "markdown",
   "metadata": {},
   "source": [
    "เช่นการทำงานกับ string ที่ใช้เก็บตัวอักษรก็จะมี method ที่เกี่ยวกับการทำงานเกี่ยวกับตัวอักษรไว้มากมายเช่น str.upper() ที่ทำงานร่วมกับ string เพื่อเปลี่ยนตัวอักษรตัวเล็กให้เป็นตัวใหญ่ โดยการใช้งาน method จะใช้การเขียน . ตามด้วยชื่อ method() ตามหลัง object ที่ต้องการทำงานด้วย โดยสามารถใส่ argument ใน () เพื่อปรับแต่งการแสดงผลตามที่ method นั้นออกแบบมาได้"
   ]
  },
  {
   "cell_type": "markdown",
   "metadata": {},
   "source": [
    "#### การใช้งาน str.upper() ร่วมกับ text"
   ]
  },
  {
   "cell_type": "code",
   "execution_count": 6,
   "metadata": {},
   "outputs": [
    {
     "data": {
      "text/plain": [
       "'HELLO WORLD'"
      ]
     },
     "execution_count": 6,
     "metadata": {},
     "output_type": "execute_result"
    }
   ],
   "source": [
    "text.upper()"
   ]
  },
  {
   "cell_type": "markdown",
   "metadata": {},
   "source": [
    "### str.lower() สร้างข้อมูลตัวอักษรตัวเล็ก"
   ]
  },
  {
   "cell_type": "markdown",
   "metadata": {},
   "source": [
    "สำหรับการสร้างข้อมูล object ที่เก็บตัวอักษรตัวเล็กจาก string ที่มีอยู่เราจะใช้ method str.lower() ที่ใช้กับ object ประเภท string"
   ]
  },
  {
   "cell_type": "markdown",
   "metadata": {},
   "source": [
    "#### การใช้งาน str.lower() ร่วมกับ text"
   ]
  },
  {
   "cell_type": "code",
   "execution_count": 7,
   "metadata": {},
   "outputs": [
    {
     "data": {
      "text/plain": [
       "'hello world'"
      ]
     },
     "execution_count": 7,
     "metadata": {},
     "output_type": "execute_result"
    }
   ],
   "source": [
    "text.lower()"
   ]
  },
  {
   "cell_type": "code",
   "execution_count": null,
   "metadata": {},
   "outputs": [],
   "source": []
  }
 ],
 "metadata": {
  "kernelspec": {
   "display_name": "Python 3",
   "language": "python",
   "name": "python3"
  },
  "language_info": {
   "codemirror_mode": {
    "name": "ipython",
    "version": 3
   },
   "file_extension": ".py",
   "mimetype": "text/x-python",
   "name": "python",
   "nbconvert_exporter": "python",
   "pygments_lexer": "ipython3",
   "version": "3.8.5"
  }
 },
 "nbformat": 4,
 "nbformat_minor": 4
}
