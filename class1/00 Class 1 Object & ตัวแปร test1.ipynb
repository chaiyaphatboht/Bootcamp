{
 "cells": [
  {
   "cell_type": "markdown",
   "metadata": {},
   "source": [
    "# Object ประเภทข้อมูล & Variable ตัวแปรเก็บข้อมูล"
   ]
  },
  {
   "cell_type": "markdown",
   "metadata": {},
   "source": [
    "ในการเขียนเขียนโปรแกรมอาจบอกได้ว่าคำสั่งต่างๆ ประกอบด้วย 2 ส่วนหลักๆ คือ 1) คำสั่งที่ให้ทำสิ่งต่างๆ 2) ข้อมูลที่ใส่เข้าไปในคำสั่งให้เกิดคำสั่งตามรายละเอียดที่ต้องการ ซึ่งใน Python ข้อมูลถูกจัดเป็นประเภทต่างๆ ที่เรียกว่า Object ที่เราต้องเข้าใจเบื้องต้นของการมีอยู่ ความแตกต่างของแต่ละประเภท เพื่อให้ใช้งานได้อย่างมีประสิทธิภาพ"
   ]
  },
  {
   "cell_type": "markdown",
   "metadata": {},
   "source": [
    "## Variable ตัวแปรใช้เก็บข้อมูล"
   ]
  },
  {
   "cell_type": "markdown",
   "metadata": {},
   "source": [
    "ในการทำงานร่วมกันของคำสั่งต่างๆ จะมีการส่งต่อข้อมูลระหว่างกัน ซึ่งในหลายครั้งต้องอาศัยการบันทึกข้อมูลดังกล่าวเอาไว้ เพื่อให้นำไปใช้ต่อได้ และวิธีการบันทึกที่ใช้งานได้สะดวกที่สุด คือ การสร้างตัวแปร"
   ]
  },
  {
   "cell_type": "markdown",
   "metadata": {},
   "source": [
    "การสร้างตัวแปร คือการบันทึกข้อมูลที่ถูกสร้างขึ้น หรือนำเข้ามาจากที่อื่น บันทึกเอาไว้ในชื่อที่กำหนดขึ้นมาเอง ด้วยสัญลักษณ์ = คั่นระหว่าง ชื่อตัวแปร และ ข้อมูลที่ต้องการบันทึก เมื่อสร้างเสร็จพอเรียกใช้เราจะได้ข้อมูลที่บันทึกเอาไว้"
   ]
  },
  {
   "cell_type": "markdown",
   "metadata": {},
   "source": [
    "#### การสร้างตัวแปร text และการเรียกใช้งาน"
   ]
  },
  {
   "cell_type": "code",
   "execution_count": null,
   "metadata": {},
   "outputs": [],
   "source": [
    "text = \"hello world\"\n",
    "text"
   ]
  },
  {
   "cell_type": "markdown",
   "metadata": {},
   "source": [
    "## Object ประเภทข้อมูล"
   ]
  },
  {
   "cell_type": "markdown",
   "metadata": {},
   "source": [
    "Python มีการแบ่งข้อมูลออกเป็นประเภทต่างๆ ซึ่งประเภทข้อมูลจะถูกเรียกว่า object ซึ่งมีการใช้งานต่างกัน บางอย่างสามารถใช้งานแทนกันได้ บางอย่างทำงานไม่เหมือนกันอย่างสิ้นเชิง ความเข้าใจเกี่ยวกับประเภท object จะช่วยให้เราเขียนคำสั่ง Python ได้อย่างมีประสิทธิภาพ"
   ]
  },
  {
   "cell_type": "markdown",
   "metadata": {},
   "source": [
    "## การสร้าง Object ด้วยคำสั่ง"
   ]
  },
  {
   "cell_type": "markdown",
   "metadata": {},
   "source": [
    "สำหรับการสร้างข้อมูลสามารถเขียนด้วยคำสั่ง Python ลงไปในโค้ดได้โดยการใช้สัญลักษณ์ และวิธีเขียนที่บ่งบอกถึงข้อมูลประเภทนั้นๆ โดยเมื่อทำงานกับข้อมูลให้สังเกตสัญลักษณ์พิเศษเหล่านี้ เพื่อเลือกประเภทข้อมูลที่เหมาะสมกับคำสั่ง"
   ]
  },
  {
   "cell_type": "markdown",
   "metadata": {},
   "source": [
    "### String ข้อมูลตัวอักษร"
   ]
  },
  {
   "cell_type": "markdown",
   "metadata": {},
   "source": [
    "จะใช้สัญลักษณ์ \" \" หรือ ' ' ครอบตัวอักษรที่ต้องการเก็บเป็น object ประเภท string ซึ่งตัวอักษร 1 ตัวนับจากการกดคีย์บอร์ด 1 ครั้ง ดังนั้นรวมถึง ทุกภาษา ตัวเลข และสัญลักษณ์พิเศษอื่นๆ"
   ]
  },
  {
   "cell_type": "code",
   "execution_count": 4,
   "metadata": {},
   "outputs": [
    {
     "name": "stdout",
     "output_type": "stream",
     "text": [
      "This is your variable: kok\n"
     ]
    }
   ],
   "source": [
    "text = 'kok'\n",
    "\n",
    "print(f'This is your variable: {text}')"
   ]
  },
  {
   "cell_type": "markdown",
   "metadata": {},
   "source": [
    "### Integer ข้อมูลเลขจำนวนเต็ม / Float ข้อมูลจำนวนทศนิยม"
   ]
  },
  {
   "cell_type": "code",
   "execution_count": null,
   "metadata": {},
   "outputs": [],
   "source": []
  },
  {
   "cell_type": "markdown",
   "metadata": {},
   "source": [
    "ในการพิมพ์ตัวเลขหากไม่มีจุดตามหลังจะถูกจัดเก็บเป็น integer object หรือจำนวนเต็ม แต่หากใช้จุดทศนิยม แม้เลขจะเป็นจำนวนเต็มก็จะถูกจัดเก็บเป็น float object หรือจำนวนทศนิยม ซึ่งในเชิงทรัพยากร integer จะกินพลังการประมวลผลน้อยกว่ามาก เทียบกับ float"
   ]
  },
  {
   "cell_type": "code",
   "execution_count": 7,
   "metadata": {},
   "outputs": [
    {
     "name": "stdout",
     "output_type": "stream",
     "text": [
      "This is your result:  3,000.000\n"
     ]
    }
   ],
   "source": [
    "first_number = 1000\n",
    "second_number = 2000\n",
    "print(f'This is your result:  {first_number+second_number:,.3f}')"
   ]
  },
  {
   "cell_type": "markdown",
   "metadata": {},
   "source": [
    "### List รายการข้อมูล"
   ]
  },
  {
   "cell_type": "markdown",
   "metadata": {},
   "source": [
    "เป็นชุดข้อมูลที่เก็บ object ใดๆ ตามลำดับข้อมูลที่เก็บไว้ใน list ซึ่งจะใช้สัญลักษณ์ [ ] ครอบ object ต่างๆ เอาไว้ หากมีการเก็บข้อมูลหลายอย่างจะใช้ , คั่นระหว่าง object เพื่อแยกข้อมูลออกจากกัน"
   ]
  },
  {
   "cell_type": "code",
   "execution_count": 8,
   "metadata": {},
   "outputs": [
    {
     "name": "stdout",
     "output_type": "stream",
     "text": [
      "This is your data: kok\n",
      "This is your data: 14\n",
      "This is your data: 23\n",
      "This is your data: 23\n",
      "This is your data: True\n",
      "This is the end of list\n"
     ]
    }
   ],
   "source": [
    "data_list = ['kok',14,23,23,True]\n",
    "for data in data_list:\n",
    "    print(f'This is your data: {data}')\n",
    "print('This is the end of list')"
   ]
  },
  {
   "cell_type": "markdown",
   "metadata": {},
   "source": [
    "### Set ข้อมูลแบบเซ็ท"
   ]
  },
  {
   "cell_type": "markdown",
   "metadata": {},
   "source": [
    "เป็นชุดข้อมูลที่เก็บ object ที่ไม่ซ้ำกันเอาไว้ในชุดข้อมูลเดียวกัน ใช้สัญลักษณ์ { } ในการสร้างครอบ object ที่ต้องการเก็บไว้ใน set หากมีหลายข้อมูลจะใช้ , คั่นข้อมูลแต่ละ object เอาไว้"
   ]
  },
  {
   "cell_type": "code",
   "execution_count": 9,
   "metadata": {},
   "outputs": [],
   "source": [
    "from IPython.display import clear_output\n",
    "all_data = set()\n",
    "while True:\n",
    "    data = input('Please input new data (NO to stop): ')\n",
    "    clear_output()\n",
    "    if data == 'NO':\n",
    "        break\n",
    "    else:\n",
    "        all_data.add(data)\n",
    "    print(f'This is your data set: {all_data}')"
   ]
  },
  {
   "cell_type": "markdown",
   "metadata": {},
   "source": [
    "### Boolean ค่าความจริง"
   ]
  },
  {
   "cell_type": "markdown",
   "metadata": {},
   "source": [
    "ใช้ประกอบกับการเช็คเงื่อนไขมีได้ 2 ค่า คือ True (ค่าจริง) และ False (ค่าเท็จ) เป็นข้อมูลที่ซ่อนอยู่ในเงื่อนไขในชีวิตประจำวัน เช่น หากบอกว่า บริษัทหนึ่งจะทำงานตามแผน A เมื่อมีกำไร และทำงานแผน B เมื่อขาดทุน เงื่อนไขของการกระทำก็คือ บริษัทนี้มีกำไร(หรือไม่) ซึ่งเป็นไปได้ 2 ทาง คือ True (บริษัทมีกำไร) และ False (บริษัทขาดทุน)"
   ]
  },
  {
   "cell_type": "code",
   "execution_count": 16,
   "metadata": {
    "scrolled": true
   },
   "outputs": [
    {
     "name": "stdout",
     "output_type": "stream",
     "text": [
      "Condition is not checked\n"
     ]
    }
   ],
   "source": [
    "a = 10\n",
    "b = 10\n",
    "state = a > b\n",
    "if state:\n",
    "    print('Condition is check')\n",
    "else:\n",
    "    print('Condition is not checked')"
   ]
  },
  {
   "cell_type": "markdown",
   "metadata": {},
   "source": [
    "## ในการใช้งานจริง"
   ]
  },
  {
   "cell_type": "markdown",
   "metadata": {},
   "source": [
    "เวลาที่มีการส่งต่อข้อมูลของแต่ละคำสั่งทุกข้อมูลจะต้องมีประเภท object ที่ชัดเจน ซึ่งให้เราคำนึงไว้ถึงประเภท object ที่แตกต่างกัน เพื่อให้เราสามารถค้นหาข้อมูล และนำเครื่องมือที่เกี่ยวข้องมาทำงานด้วยอย่างเหมาะสม\n"
   ]
  }
 ],
 "metadata": {
  "kernelspec": {
   "display_name": "Python 3",
   "language": "python",
   "name": "python3"
  },
  "language_info": {
   "codemirror_mode": {
    "name": "ipython",
    "version": 3
   },
   "file_extension": ".py",
   "mimetype": "text/x-python",
   "name": "python",
   "nbconvert_exporter": "python",
   "pygments_lexer": "ipython3",
   "version": "3.8.5"
  }
 },
 "nbformat": 4,
 "nbformat_minor": 4
}
